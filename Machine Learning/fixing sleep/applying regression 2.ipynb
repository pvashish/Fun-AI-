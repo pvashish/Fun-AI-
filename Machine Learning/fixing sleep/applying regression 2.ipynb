{
 "cells": [
  {
   "cell_type": "code",
   "execution_count": 58,
   "metadata": {},
   "outputs": [],
   "source": [
    "import pandas as pd\n",
    "from sklearn import preprocessing\n",
    "import sklearn.model_selection as ms\n",
    "from sklearn import linear_model\n",
    "import sklearn.metrics as sklm\n",
    "import numpy as np\n",
    "import numpy.random as nr\n",
    "import matplotlib.pyplot as plt\n",
    "import seaborn as sns\n",
    "import scipy.stats as ss\n",
    "import math\n",
    "\n",
    "%matplotlib inline"
   ]
  },
  {
   "cell_type": "code",
   "execution_count": 59,
   "metadata": {},
   "outputs": [
    {
     "data": {
      "text/plain": [
       "Index(['Stress', 'Physical_activity', 'recreational_activity',\n",
       "       'Meditation_minutes', 'noise', 'light', 'wearning_socks', 'calories',\n",
       "       'sleeping_hours'],\n",
       "      dtype='object')"
      ]
     },
     "execution_count": 59,
     "metadata": {},
     "output_type": "execute_result"
    }
   ],
   "source": [
    "sleep_hours = pd.read_csv('sleep4.csv')\n",
    "sleep_hours.columns"
   ]
  },
  {
   "cell_type": "code",
   "execution_count": 60,
   "metadata": {},
   "outputs": [
    {
     "name": "stdout",
     "output_type": "stream",
     "text": [
      "<class 'pandas.core.frame.DataFrame'>\n",
      "RangeIndex: 199 entries, 0 to 198\n",
      "Data columns (total 9 columns):\n",
      " #   Column                 Non-Null Count  Dtype  \n",
      "---  ------                 --------------  -----  \n",
      " 0   Stress                 199 non-null    float64\n",
      " 1   Physical_activity      199 non-null    object \n",
      " 2   recreational_activity  199 non-null    object \n",
      " 3   Meditation_minutes     199 non-null    int64  \n",
      " 4   noise                  199 non-null    int64  \n",
      " 5   light                  199 non-null    object \n",
      " 6   wearning_socks         199 non-null    object \n",
      " 7   calories               199 non-null    int64  \n",
      " 8   sleeping_hours         199 non-null    float64\n",
      "dtypes: float64(2), int64(3), object(4)\n",
      "memory usage: 14.1+ KB\n"
     ]
    }
   ],
   "source": [
    "sleep_hours.info()"
   ]
  },
  {
   "cell_type": "code",
   "execution_count": 61,
   "metadata": {},
   "outputs": [
    {
     "data": {
      "text/html": [
       "<div>\n",
       "<style scoped>\n",
       "    .dataframe tbody tr th:only-of-type {\n",
       "        vertical-align: middle;\n",
       "    }\n",
       "\n",
       "    .dataframe tbody tr th {\n",
       "        vertical-align: top;\n",
       "    }\n",
       "\n",
       "    .dataframe thead th {\n",
       "        text-align: right;\n",
       "    }\n",
       "</style>\n",
       "<table border=\"1\" class=\"dataframe\">\n",
       "  <thead>\n",
       "    <tr style=\"text-align: right;\">\n",
       "      <th></th>\n",
       "      <th>Stress</th>\n",
       "      <th>Physical_activity</th>\n",
       "      <th>recreational_activity</th>\n",
       "      <th>Meditation_minutes</th>\n",
       "      <th>noise</th>\n",
       "      <th>light</th>\n",
       "      <th>wearning_socks</th>\n",
       "      <th>calories</th>\n",
       "      <th>sleeping_hours</th>\n",
       "    </tr>\n",
       "  </thead>\n",
       "  <tbody>\n",
       "    <tr>\n",
       "      <th>0</th>\n",
       "      <td>12.32</td>\n",
       "      <td>yoga</td>\n",
       "      <td>writing</td>\n",
       "      <td>6</td>\n",
       "      <td>0</td>\n",
       "      <td>on</td>\n",
       "      <td>no</td>\n",
       "      <td>1600</td>\n",
       "      <td>19.6</td>\n",
       "    </tr>\n",
       "    <tr>\n",
       "      <th>1</th>\n",
       "      <td>30.23</td>\n",
       "      <td>yoga</td>\n",
       "      <td>audio books</td>\n",
       "      <td>8</td>\n",
       "      <td>0</td>\n",
       "      <td>on</td>\n",
       "      <td>no</td>\n",
       "      <td>1800</td>\n",
       "      <td>7.6</td>\n",
       "    </tr>\n",
       "    <tr>\n",
       "      <th>2</th>\n",
       "      <td>34.26</td>\n",
       "      <td>none</td>\n",
       "      <td>audio books</td>\n",
       "      <td>6</td>\n",
       "      <td>0</td>\n",
       "      <td>on</td>\n",
       "      <td>yes</td>\n",
       "      <td>1999</td>\n",
       "      <td>4.4</td>\n",
       "    </tr>\n",
       "    <tr>\n",
       "      <th>3</th>\n",
       "      <td>14.78</td>\n",
       "      <td>yoga</td>\n",
       "      <td>audio books</td>\n",
       "      <td>8</td>\n",
       "      <td>0</td>\n",
       "      <td>off</td>\n",
       "      <td>yes</td>\n",
       "      <td>2000</td>\n",
       "      <td>10.5</td>\n",
       "    </tr>\n",
       "    <tr>\n",
       "      <th>4</th>\n",
       "      <td>20.20</td>\n",
       "      <td>yoga</td>\n",
       "      <td>audio books</td>\n",
       "      <td>5</td>\n",
       "      <td>0</td>\n",
       "      <td>off</td>\n",
       "      <td>no</td>\n",
       "      <td>2300</td>\n",
       "      <td>8.4</td>\n",
       "    </tr>\n",
       "  </tbody>\n",
       "</table>\n",
       "</div>"
      ],
      "text/plain": [
       "   Stress Physical_activity recreational_activity  Meditation_minutes  noise  \\\n",
       "0   12.32              yoga               writing                   6      0   \n",
       "1   30.23              yoga           audio books                   8      0   \n",
       "2   34.26              none           audio books                   6      0   \n",
       "3   14.78              yoga           audio books                   8      0   \n",
       "4   20.20              yoga           audio books                   5      0   \n",
       "\n",
       "  light wearning_socks  calories  sleeping_hours  \n",
       "0    on             no      1600            19.6  \n",
       "1    on             no      1800             7.6  \n",
       "2    on            yes      1999             4.4  \n",
       "3   off            yes      2000            10.5  \n",
       "4   off             no      2300             8.4  "
      ]
     },
     "execution_count": 61,
     "metadata": {},
     "output_type": "execute_result"
    }
   ],
   "source": [
    "sleep_hours.head()"
   ]
  },
  {
   "cell_type": "code",
   "execution_count": 62,
   "metadata": {},
   "outputs": [
    {
     "name": "stdout",
     "output_type": "stream",
     "text": [
      "['yoga' 'none' 'running']\n",
      "[2 2 0 2 2 1 0 1 2 2 1 0 1 1 0 2 1 0 1 2 0 1 1 2 0 2 2 2 0 2 0 2 1 1 0 0 0\n",
      " 0 2 1 1 1 2 2 0 0 0 2 2 2 0 2 2 0 2 2 2 2 0 2 2 2 0 2 1 0 2 1 1 2 2 2 2 2\n",
      " 0 0 2 2 1 2 1 2 1 2 1 2 1 2 1 2 1 0 2 0 2 0 2 0 2 2 2 1 2 1 2 2 2 0 0 2 2\n",
      " 2 1 2 1 2 2 1 2 1 1 1 2 1 1 0 1 1 1 2 1 1 2 2 0 1 2 1 1 2 1 1 2 1 0 1 1 0\n",
      " 2 1 1 2 1 1 2 2 1 1 1 0 2 1 1 2 0 1 2 1 1 2 0 2 1 0 2 1 0 2 1 2 1 0 0 2 1\n",
      " 1 0 0 0 1 2 0 1 0 2 1 1 2 1]\n"
     ]
    }
   ],
   "source": [
    "print(sleep_hours['Physical_activity'].unique())\n",
    "Features = sleep_hours['Physical_activity']\n",
    "enc = preprocessing.LabelEncoder()\n",
    "enc.fit(Features)\n",
    "Features = enc.transform(Features)\n",
    "print(Features)"
   ]
  },
  {
   "cell_type": "code",
   "execution_count": 63,
   "metadata": {},
   "outputs": [
    {
     "data": {
      "text/plain": [
       "array([[0., 0., 1.],\n",
       "       [0., 0., 1.],\n",
       "       [1., 0., 0.],\n",
       "       [0., 0., 1.],\n",
       "       [0., 0., 1.],\n",
       "       [0., 1., 0.],\n",
       "       [1., 0., 0.],\n",
       "       [0., 1., 0.],\n",
       "       [0., 0., 1.],\n",
       "       [0., 0., 1.]])"
      ]
     },
     "execution_count": 63,
     "metadata": {},
     "output_type": "execute_result"
    }
   ],
   "source": [
    "ohe = preprocessing.OneHotEncoder()\n",
    "encoded = ohe.fit(Features.reshape(-1,1))\n",
    "Features = encoded.transform(Features.reshape(-1,1)).toarray()\n",
    "Features[:10,:]"
   ]
  },
  {
   "cell_type": "code",
   "execution_count": 64,
   "metadata": {},
   "outputs": [
    {
     "name": "stdout",
     "output_type": "stream",
     "text": [
      "(199, 10)\n",
      "[[0. 0. 1. 0. 0. 1. 0. 1. 1. 0.]\n",
      " [0. 0. 1. 1. 0. 0. 0. 1. 1. 0.]]\n"
     ]
    }
   ],
   "source": [
    "def encode_string(cat_feature):\n",
    "    ## First encode the strings to numeric categories\n",
    "    enc = preprocessing.LabelEncoder()\n",
    "    enc.fit(cat_feature)\n",
    "    enc_cat_feature = enc.transform(cat_feature)\n",
    "    ## Now, apply one hot encoding\n",
    "    ohe = preprocessing.OneHotEncoder()\n",
    "    encoded = ohe.fit(enc_cat_feature.reshape(-1,1))\n",
    "    return encoded.transform(enc_cat_feature.reshape(-1,1)).toarray()\n",
    "    \n",
    "\n",
    "categorical_columns = ['recreational_activity', 'light', 'wearning_socks']\n",
    "\n",
    "for col in categorical_columns:\n",
    "    temp = encode_string(sleep_hours[col])\n",
    "    Features = np.concatenate([Features, temp], axis = 1)\n",
    "\n",
    "print(Features.shape)\n",
    "print(Features[:2, :])   "
   ]
  },
  {
   "cell_type": "code",
   "execution_count": 65,
   "metadata": {},
   "outputs": [
    {
     "data": {
      "text/plain": [
       "array([[0.000e+00, 0.000e+00, 1.000e+00, 0.000e+00, 0.000e+00, 1.000e+00,\n",
       "        0.000e+00, 1.000e+00, 1.000e+00, 0.000e+00, 1.232e+01, 6.000e+00,\n",
       "        1.600e+03],\n",
       "       [0.000e+00, 0.000e+00, 1.000e+00, 1.000e+00, 0.000e+00, 0.000e+00,\n",
       "        0.000e+00, 1.000e+00, 1.000e+00, 0.000e+00, 3.023e+01, 8.000e+00,\n",
       "        1.800e+03]])"
      ]
     },
     "execution_count": 65,
     "metadata": {},
     "output_type": "execute_result"
    }
   ],
   "source": [
    "Features = np.concatenate([Features, np.array(sleep_hours[['Stress', 'Meditation_minutes', 'calories']])], axis = 1)\n",
    "Features[:2,:]"
   ]
  },
  {
   "cell_type": "code",
   "execution_count": 66,
   "metadata": {},
   "outputs": [],
   "source": [
    "## Randomly sample cases to create independent training and test data\n",
    "nr.seed(9988)\n",
    "labels = np.array(sleep_hours['sleeping_hours'])\n",
    "indx = range(Features.shape[0])\n",
    "indx = ms.train_test_split(indx, test_size = 40)\n",
    "x_train = Features[indx[0],:]\n",
    "y_train = np.ravel(labels[indx[0]])\n",
    "x_test = Features[indx[1],:]\n",
    "y_test = np.ravel(labels[indx[1]])"
   ]
  },
  {
   "cell_type": "code",
   "execution_count": 67,
   "metadata": {},
   "outputs": [
    {
     "name": "stdout",
     "output_type": "stream",
     "text": [
      "(159, 13)\n"
     ]
    },
    {
     "data": {
      "text/plain": [
       "array([[ 0.        ,  0.        ,  1.        ,  0.        ,  0.        ,\n",
       "         1.        ,  0.        ,  1.        ,  1.        ,  0.        ,\n",
       "        -1.9845591 , -1.1873995 , -1.21373446],\n",
       "       [ 0.        ,  0.        ,  1.        ,  1.        ,  0.        ,\n",
       "         0.        ,  1.        ,  0.        ,  1.        ,  0.        ,\n",
       "        -0.58342434,  1.46340968,  0.02843529],\n",
       "       [ 1.        ,  0.        ,  0.        ,  0.        ,  1.        ,\n",
       "         0.        ,  1.        ,  0.        ,  1.        ,  0.        ,\n",
       "         1.60982552,  1.46340968,  0.13582749],\n",
       "       [ 0.        ,  0.        ,  1.        ,  0.        ,  0.        ,\n",
       "         1.        ,  1.        ,  0.        ,  1.        ,  0.        ,\n",
       "        -1.21841498,  1.46340968,  1.29208349]])"
      ]
     },
     "execution_count": 67,
     "metadata": {},
     "output_type": "execute_result"
    }
   ],
   "source": [
    "scaler = preprocessing.StandardScaler().fit(x_train[:,10:])\n",
    "x_train[:,10:] = scaler.transform(x_train[:,10:])\n",
    "x_test[:,10:] = scaler.transform(x_test[:,10:])\n",
    "print(x_train.shape)\n",
    "x_train[:4,:]"
   ]
  },
  {
   "cell_type": "code",
   "execution_count": 69,
   "metadata": {},
   "outputs": [
    {
     "data": {
      "text/plain": [
       "LinearRegression(fit_intercept=False)"
      ]
     },
     "execution_count": 69,
     "metadata": {},
     "output_type": "execute_result"
    }
   ],
   "source": [
    "## define and fit the linear regression model\n",
    "lin_mod = linear_model.LinearRegression(fit_intercept = False)\n",
    "lin_mod.fit(x_train, y_train)"
   ]
  },
  {
   "cell_type": "code",
   "execution_count": 70,
   "metadata": {},
   "outputs": [
    {
     "name": "stdout",
     "output_type": "stream",
     "text": [
      "0.0\n",
      "[ 1.36500248  1.4294042   1.49091459  1.66108151  1.28962974  1.33461003\n",
      "  1.83478672  2.45053455  2.29446706  1.99085421 -2.15944121  0.00442425\n",
      " -0.08640689]\n"
     ]
    }
   ],
   "source": [
    "print(lin_mod.intercept_)\n",
    "print(lin_mod.coef_)"
   ]
  },
  {
   "cell_type": "code",
   "execution_count": 71,
   "metadata": {},
   "outputs": [
    {
     "name": "stdout",
     "output_type": "stream",
     "text": [
      "Mean Square Error      = 1.310210508285405\n",
      "Root Mean Square Error = 1.144644271503337\n",
      "Mean Absolute Error    = 0.8777352222300288\n",
      "Median Absolute Error  = 0.6631218674737953\n",
      "R^2                    = 0.7479028170873447\n",
      "Adjusted R^2           = 0.1806841555338704\n"
     ]
    }
   ],
   "source": [
    "def print_metrics(y_true, y_predicted, n_parameters):\n",
    "    ## First compute R^2 and the adjusted R^2\n",
    "    r2 = sklm.r2_score(y_true, y_predicted)\n",
    "    r2_adj = r2 - (n_parameters - 1)/(y_true.shape[0] - n_parameters) * (1 - r2)\n",
    "    \n",
    "    ## Print the usual metrics and the R^2 values\n",
    "    print('Mean Square Error      = ' + str(sklm.mean_squared_error(y_true, y_predicted)))\n",
    "    print('Root Mean Square Error = ' + str(math.sqrt(sklm.mean_squared_error(y_true, y_predicted))))\n",
    "    print('Mean Absolute Error    = ' + str(sklm.mean_absolute_error(y_true, y_predicted)))\n",
    "    print('Median Absolute Error  = ' + str(sklm.median_absolute_error(y_true, y_predicted)))\n",
    "    print('R^2                    = ' + str(r2))\n",
    "    print('Adjusted R^2           = ' + str(r2_adj))\n",
    "   \n",
    "y_score = lin_mod.predict(x_test) \n",
    "print_metrics(y_test, y_score, 28)    "
   ]
  },
  {
   "cell_type": "code",
   "execution_count": 72,
   "metadata": {},
   "outputs": [
    {
     "data": {
      "image/png": "[encoded data removed]",
      "text/plain": [
       "<Figure size 432x288 with 1 Axes>"
      ]
     },
     "metadata": {
      "needs_background": "light"
     },
     "output_type": "display_data"
    }
   ],
   "source": [
    "def hist_resids(y_test, y_score):\n",
    "    ## first compute vector of residuals. \n",
    "    resids = np.subtract(y_test.reshape(-1,1), y_score.reshape(-1,1))\n",
    "    ## now make the residual plots\n",
    "    sns.distplot(resids)\n",
    "    plt.title('Histogram of residuals')\n",
    "    plt.xlabel('Residual value')\n",
    "    plt.ylabel('count')\n",
    "    \n",
    "hist_resids(y_test, y_score)    "
   ]
  },
  {
   "cell_type": "code",
   "execution_count": 73,
   "metadata": {},
   "outputs": [
    {
     "data": {
      "image/png": "[encoded data removed]",
      "text/plain": [
       "<Figure size 432x288 with 1 Axes>"
      ]
     },
     "metadata": {
      "needs_background": "light"
     },
     "output_type": "display_data"
    }
   ],
   "source": [
    "def resid_qq(y_test, y_score):\n",
    "    ## first compute vector of residuals. \n",
    "    resids = np.subtract(y_test.reshape(-1,1), y_score.reshape(-1,1))\n",
    "    ## now make the residual plots\n",
    "    ss.probplot(resids.flatten(), plot = plt)\n",
    "    plt.title('Residuals vs. predicted values')\n",
    "    plt.xlabel('Predicted values')\n",
    "    plt.ylabel('Residual')\n",
    "    \n",
    "resid_qq(y_test, y_score)   "
   ]
  },
  {
   "cell_type": "code",
   "execution_count": 74,
   "metadata": {},
   "outputs": [
    {
     "data": {
      "image/png": "[encoded data removed]",
      "text/plain": [
       "<Figure size 432x288 with 1 Axes>"
      ]
     },
     "metadata": {
      "needs_background": "light"
     },
     "output_type": "display_data"
    }
   ],
   "source": [
    "def resid_plot(y_test, y_score):\n",
    "    ## first compute vector of residuals. \n",
    "    resids = np.subtract(y_test.reshape(-1,1), y_score.reshape(-1,1))\n",
    "    ## now make the residual plots\n",
    "    sns.regplot(y_score, resids, fit_reg=False)\n",
    "    plt.title('Residuals vs. predicted values')\n",
    "    plt.xlabel('Predicted values')\n",
    "    plt.ylabel('Residual')\n",
    "\n",
    "resid_plot(y_test, y_score) "
   ]
  },
  {
   "cell_type": "code",
   "execution_count": 75,
   "metadata": {},
   "outputs": [
    {
     "data": {
      "image/png": "[encoded data removed]",
      "text/plain": [
       "<Figure size 432x288 with 1 Axes>"
      ]
     },
     "metadata": {
      "needs_background": "light"
     },
     "output_type": "display_data"
    }
   ],
   "source": [
    "y_score_untransform = np.exp(y_score)\n",
    "y_test_untransform = np.exp(y_test)\n",
    "resid_plot(y_test_untransform, y_score_untransform) "
   ]
  },
  {
   "cell_type": "code",
   "execution_count": null,
   "metadata": {},
   "outputs": [],
   "source": []
  }
 ],
 "metadata": {
  "kernelspec": {
   "display_name": "Python 3",
   "language": "python",
   "name": "python3"
  },
  "language_info": {
   "codemirror_mode": {
    "name": "ipython",
    "version": 3
   },
   "file_extension": ".py",
   "mimetype": "text/x-python",
   "name": "python",
   "nbconvert_exporter": "python",
   "pygments_lexer": "ipython3",
   "version": "3.8.5"
  }
 },
 "nbformat": 4,
 "nbformat_minor": 4
}
